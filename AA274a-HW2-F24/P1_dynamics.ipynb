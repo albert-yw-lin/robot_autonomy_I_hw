{
  "cells": [
    {
      "cell_type": "code",
      "execution_count": 1,
      "metadata": {
        "id": "1wCgyQCL68pq"
      },
      "outputs": [],
      "source": [
        "import numpy as np\n",
        "import matplotlib.pyplot as plt\n",
        "\n",
        "np.random.seed(0)"
      ]
    },
    {
      "cell_type": "markdown",
      "metadata": {
        "id": "fPH6_P6Qqo3r"
      },
      "source": [
        "## Dynamics Base Class"
      ]
    },
    {
      "cell_type": "code",
      "execution_count": 3,
      "metadata": {
        "id": "mmd7JCKcN2H4"
      },
      "outputs": [],
      "source": [
        "class Dynamics():\n",
        "\n",
        "  def __init__(self):\n",
        "    super().__init__()\n",
        "    self.dt = 0.01\n",
        "    self.noisy = True\n",
        "\n",
        "  def feed_forward(self, state, control):\n",
        "    raise NotImplementedError(\"Calling abstract function\")\n",
        "\n",
        "  def rollout(self, state_init, control_traj, num_rollouts):\n",
        "    raise NotImplementedError(\"Calling abstract function\")\n"
      ]
    },
    {
      "cell_type": "markdown",
      "metadata": {
        "id": "d0NxXDAL-oZ3"
      },
      "source": [
        "## TurtleBot Example"
      ]
    },
    {
      "cell_type": "code",
      "execution_count": 4,
      "metadata": {
        "id": "WY3C4-vH4nhY"
      },
      "outputs": [],
      "source": [
        "class TurtleBotState():\n",
        "  def __init__(self, x=0, y=0, th=0):\n",
        "    self.x  = x\n",
        "    self.y  = y\n",
        "    self.th = th"
      ]
    },
    {
      "cell_type": "code",
      "execution_count": 5,
      "metadata": {
        "id": "3SXa9RX45MWv"
      },
      "outputs": [],
      "source": [
        "class TurtleBotControl():\n",
        "  def __init__(self, v=0, o=0):\n",
        "    self.v = v\n",
        "    self.o = o"
      ]
    },
    {
      "cell_type": "code",
      "execution_count": 16,
      "metadata": {
        "id": "2BNgTEETxRv4"
      },
      "outputs": [],
      "source": [
        "class TurtleBotDynamics(Dynamics):\n",
        "\n",
        "  def __init__(self) -> None:\n",
        "    super().__init__()\n",
        "    self.n = 3  # length of state\n",
        "    self.m = 2  # length of control\n",
        "\n",
        "  def feed_forward(self, state:TurtleBotState, control:TurtleBotControl):\n",
        "    # Define Gaussian Noise\n",
        "    if self.noisy == False:\n",
        "      var = np.array([0.0, 0.0, 0.0])\n",
        "    elif self.noisy == True:\n",
        "      var = np.array([0.01, 0.01, 0.001])\n",
        "    w = np.random.normal(loc=np.array([0.0, 0.0, 0.0]), scale=var)\n",
        "\n",
        "\n",
        "    state_new = TurtleBotState()\n",
        "    ############################## Code starts here ##############################\n",
        "    \"\"\"\n",
        "    Populate \"state_new\" by applying discrete time dynamics equations. Use \"self.dt\" from the Dynamics base class.\n",
        "    \"\"\"\n",
        "    state_new.x = state.x + control.v*np.cos(state.th)*self.dt\n",
        "    state_new.y = state.y + control.v*np.sin(state.th)*self.dt\n",
        "    state_new.th = state.th + control.o*self.dt\n",
        "    ############################## Code ends here ##############################\n",
        "\n",
        "    # Add noise\n",
        "    state_new.x  = state_new.x  + w[0]\n",
        "    state_new.y  = state_new.y  + w[1]\n",
        "    state_new.th = state_new.th + w[2]\n",
        "    return state_new\n",
        "\n",
        "  def rollout(self, state_init, control_traj, num_rollouts):\n",
        "    num_steps = control_traj.shape[1]\n",
        "\n",
        "    state_traj_rollouts = np.zeros((self.n*num_rollouts, num_steps+1))\n",
        "    ############################## Code starts here ##############################\n",
        "    \"\"\"\n",
        "    Use two for-loops to loop through \"num_rollouts\" and \"num_steps\" to populate \"state_traj_rollouts\". Use the \"feed_forward\" function above.\n",
        "    \"\"\"\n",
        "    for i in range(0, self.n*num_rollouts, 3):\n",
        "      for j in range(num_steps+1):\n",
        "        if j == 0:\n",
        "          state_traj_rollouts[i:i+3, j] = np.array([state_init.x, state_init.y, state_init.th]).T\n",
        "          old_state = state_init\n",
        "        else:\n",
        "          new_state = self.feed_forward(old_state, TurtleBotControl(control_traj[0, j-1], control_traj[1, j-1]))\n",
        "          state_traj_rollouts[i:i+3, j] = np.array([new_state.x, new_state.y, new_state.th]).T\n",
        "          old_state = new_state\n",
        "    ############################## Code ends here ##############################\n",
        "\n",
        "    return state_traj_rollouts"
      ]
    },
    {
      "cell_type": "code",
      "execution_count": 28,
      "metadata": {
        "id": "nep2ekZM8AK4"
      },
      "outputs": [],
      "source": [
        "# Run Turtlebot Dynamics Rollouts\n",
        "\n",
        "# Constants\n",
        "num_rollouts = 10\n",
        "num_steps = 100\n",
        "\n",
        "# Define the dynamics class\n",
        "tb_dynamics = TurtleBotDynamics()\n",
        "\n",
        "# Define the control inputs\n",
        "control_traj = np.ones((tb_dynamics.m,num_steps))\n",
        "control_traj[1,:] = np.sin(np.linspace(0.0, 2*np.pi, num_steps))\n",
        "\n",
        "# Define inital state\n",
        "state_init = TurtleBotState(0.0, 0.0, 0.0)\n",
        "\n",
        "# Rollouts dynamics\n",
        "state_traj_rollouts = tb_dynamics.rollout(state_init, control_traj, num_rollouts)"
      ]
    },
    {
      "cell_type": "code",
      "execution_count": null,
      "metadata": {
        "colab": {
          "base_uri": "https://localhost:8080/",
          "height": 939
        },
        "id": "5GVVablv17SD",
        "outputId": "02376dfe-c7a6-49d5-c04e-3ab7608365c7"
      },
      "outputs": [],
      "source": [
        "# Plot control inputs\n",
        "fig_ctrl, axs_ctrl = plt.subplots(nrows=tb_dynamics.m)\n",
        "ylabels_ctrl = [\"v\", \"o\"]\n",
        "ylims_ctrl = np.array([[0.0, 2.0],[-1.1, 1.1]])\n",
        "for j in range(tb_dynamics.m):\n",
        "  axs_ctrl[j].plot(np.linspace(0,num_steps,num_steps), control_traj[j, :])\n",
        "  axs_ctrl[j].set_ylabel(ylabels_ctrl[j])\n",
        "  axs_ctrl[j].set_ylim(ylims_ctrl[j,:])\n",
        "fig_ctrl.suptitle(\"Control\")\n",
        "\n",
        "# Plot state trajectory rollouts\n",
        "fig_state, axs_state = plt.subplots(nrows=tb_dynamics.n)\n",
        "ylabels_state = [\"x\", \"y\", \"th\"]\n",
        "ylims_state = np.array([[-0.1, 1.1], [-0.5, 0.5], [-0.1, 0.5]])\n",
        "for i in range(num_rollouts):\n",
        "  for j in range(tb_dynamics.n):\n",
        "    axs_state[j].plot(np.linspace(0,num_steps+1,num_steps+1), state_traj_rollouts[tb_dynamics.n*i + j, :], c='c')\n",
        "    axs_state[j].set_ylabel(ylabels_state[j])\n",
        "    axs_state[j].set_ylim(ylims_state[j,:])\n",
        "fig_state.suptitle(\"State\")\n",
        "plt.show()"
      ]
    },
    {
      "cell_type": "markdown",
      "metadata": {
        "id": "Ev4L802J-e6X"
      },
      "source": [
        "## Double Integrator Example"
      ]
    },
    {
      "cell_type": "code",
      "execution_count": 42,
      "metadata": {
        "id": "k1p165Lr5VKt"
      },
      "outputs": [],
      "source": [
        "class DoubleIntegratorDynamics(Dynamics):\n",
        "\n",
        "  def __init__(self) -> None:\n",
        "    super().__init__()\n",
        "    self.xdd_max = 0.5 # m/s^2\n",
        "    self.ydd_max = 0.5 # m/s^2\n",
        "    self.n = 4\n",
        "    self.m = 2\n",
        "\n",
        "  def feed_forward(self, state:np.array, control:np.array):\n",
        "\n",
        "    num_rollouts = int(state.shape[0] / self.n)\n",
        "\n",
        "    # Define Gaussian Noise\n",
        "    if self.noisy == False:\n",
        "      var = np.array([0.0, 0.0, 0.0, 0.0])\n",
        "    elif self.noisy == True:\n",
        "      var = np.array([0.01, 0.01, 0.001, 0.001])\n",
        "\n",
        "    var_stack = np.tile(var, (num_rollouts))\n",
        "    w = np.random.normal(loc=np.zeros(state.shape), scale=var_stack)\n",
        "\n",
        "    # State space dynamics\n",
        "    A = np.array([[1.0, 0.0, self.dt, 0.0],\n",
        "                  [0.0, 1.0, 0.0, self.dt],\n",
        "                  [0.0, 0.0, 1.0, 0.0],\n",
        "                  [0.0, 0.0, 0.0, 1.0]])\n",
        "\n",
        "    B = np.array([[0.0, 0.0],\n",
        "                  [0.0, 0.0],\n",
        "                  [self.dt, 0.0],\n",
        "                  [0.0, self.dt]])\n",
        "\n",
        "    # Stack to parallelize trajectories\n",
        "    A_stack = np.kron(np.eye(num_rollouts), A)\n",
        "    B_stack = np.tile(B, (num_rollouts, 1))\n",
        "\n",
        "    ############################## Code starts here ##############################\n",
        "    \"\"\"\n",
        "    Construct \"state_new\" by applying discrete time dynamics vectorized equations. Will require use of \"A_stack\" and \"B_stack\".\n",
        "    \"\"\"\n",
        "    state_new = np.dot(state, A_stack.T).T + np.dot(control, B_stack.T)\n",
        "    ############################## Code ends here ##############################\n",
        "\n",
        "    # Add noise\n",
        "    state_new = state_new + w\n",
        "\n",
        "    return state_new\n",
        "\n",
        "  def rollout(self, state_init, control_traj, num_rollouts):\n",
        "\n",
        "    num_steps = control_traj.shape[1]\n",
        "\n",
        "    state_traj = np.zeros((self.n*num_rollouts, num_steps+1))\n",
        "    state_traj[:,0] = np.tile(state_init, num_rollouts)\n",
        "    ############################## Code starts here ##############################\n",
        "    \"\"\"\n",
        "    Populate \"state_traj\" using only one for-loop, along with the \"feed_forward\" function above.\n",
        "    \"\"\"\n",
        "    for i in range(1, num_steps+1):\n",
        "      state_traj[:, i] = self.feed_forward(state_traj[:, i-1], control_traj[:, i-1])\n",
        "    ############################## Code ends here ##############################\n",
        "\n",
        "    return state_traj\n"
      ]
    },
    {
      "cell_type": "code",
      "execution_count": 43,
      "metadata": {
        "id": "qXCqYwbq_CPr"
      },
      "outputs": [
        {
          "ename": "ValueError",
          "evalue": "shape mismatch: objects cannot be broadcast to a single shape",
          "output_type": "error",
          "traceback": [
            "\u001b[0;31m---------------------------------------------------------------------------\u001b[0m",
            "\u001b[0;31mValueError\u001b[0m                                Traceback (most recent call last)",
            "Cell \u001b[0;32mIn[43], line 19\u001b[0m\n\u001b[1;32m     16\u001b[0m state_init \u001b[38;5;241m=\u001b[39m np\u001b[38;5;241m.\u001b[39marray([\u001b[38;5;241m0.0\u001b[39m, \u001b[38;5;241m0.0\u001b[39m, \u001b[38;5;241m0.0\u001b[39m, \u001b[38;5;241m0.0\u001b[39m])\n\u001b[1;32m     18\u001b[0m \u001b[38;5;66;03m# Rollouts dynamics\u001b[39;00m\n\u001b[0;32m---> 19\u001b[0m state_traj_rollouts \u001b[38;5;241m=\u001b[39m \u001b[43mdi_dynamics\u001b[49m\u001b[38;5;241;43m.\u001b[39;49m\u001b[43mrollout\u001b[49m\u001b[43m(\u001b[49m\u001b[43mstate_init\u001b[49m\u001b[43m,\u001b[49m\u001b[43m \u001b[49m\u001b[43mcontrol_traj\u001b[49m\u001b[43m,\u001b[49m\u001b[43m \u001b[49m\u001b[43mnum_rollouts\u001b[49m\u001b[43m)\u001b[49m\n",
            "Cell \u001b[0;32mIn[42], line 61\u001b[0m, in \u001b[0;36mDoubleIntegratorDynamics.rollout\u001b[0;34m(self, state_init, control_traj, num_rollouts)\u001b[0m\n\u001b[1;32m     57\u001b[0m \u001b[38;5;66;03m############################## Code starts here ##############################\u001b[39;00m\n\u001b[1;32m     58\u001b[0m \u001b[38;5;124;03m\"\"\"\u001b[39;00m\n\u001b[1;32m     59\u001b[0m \u001b[38;5;124;03mPopulate \"state_traj\" using only one for-loop, along with the \"feed_forward\" function above.\u001b[39;00m\n\u001b[1;32m     60\u001b[0m \u001b[38;5;124;03m\"\"\"\u001b[39;00m\n\u001b[0;32m---> 61\u001b[0m \u001b[38;5;28;43mself\u001b[39;49m\u001b[38;5;241;43m.\u001b[39;49m\u001b[43mfeed_forward\u001b[49m\u001b[43m(\u001b[49m\u001b[43mstate_traj\u001b[49m\u001b[43m,\u001b[49m\u001b[43m \u001b[49m\u001b[43mcontrol_traj\u001b[49m\u001b[43m)\u001b[49m\n\u001b[1;32m     62\u001b[0m \u001b[38;5;66;03m############################## Code ends here ##############################\u001b[39;00m\n\u001b[1;32m     64\u001b[0m \u001b[38;5;28;01mreturn\u001b[39;00m state_traj\n",
            "Cell \u001b[0;32mIn[42], line 21\u001b[0m, in \u001b[0;36mDoubleIntegratorDynamics.feed_forward\u001b[0;34m(self, state, control)\u001b[0m\n\u001b[1;32m     18\u001b[0m   var \u001b[38;5;241m=\u001b[39m np\u001b[38;5;241m.\u001b[39marray([\u001b[38;5;241m0.01\u001b[39m, \u001b[38;5;241m0.01\u001b[39m, \u001b[38;5;241m0.001\u001b[39m, \u001b[38;5;241m0.001\u001b[39m])\n\u001b[1;32m     20\u001b[0m var_stack \u001b[38;5;241m=\u001b[39m np\u001b[38;5;241m.\u001b[39mtile(var, (num_rollouts))\n\u001b[0;32m---> 21\u001b[0m w \u001b[38;5;241m=\u001b[39m \u001b[43mnp\u001b[49m\u001b[38;5;241;43m.\u001b[39;49m\u001b[43mrandom\u001b[49m\u001b[38;5;241;43m.\u001b[39;49m\u001b[43mnormal\u001b[49m\u001b[43m(\u001b[49m\u001b[43mloc\u001b[49m\u001b[38;5;241;43m=\u001b[39;49m\u001b[43mnp\u001b[49m\u001b[38;5;241;43m.\u001b[39;49m\u001b[43mzeros\u001b[49m\u001b[43m(\u001b[49m\u001b[43mstate\u001b[49m\u001b[38;5;241;43m.\u001b[39;49m\u001b[43mshape\u001b[49m\u001b[43m)\u001b[49m\u001b[43m,\u001b[49m\u001b[43m \u001b[49m\u001b[43mscale\u001b[49m\u001b[38;5;241;43m=\u001b[39;49m\u001b[43mvar_stack\u001b[49m\u001b[43m)\u001b[49m\n\u001b[1;32m     23\u001b[0m \u001b[38;5;66;03m# State space dynamics\u001b[39;00m\n\u001b[1;32m     24\u001b[0m A \u001b[38;5;241m=\u001b[39m np\u001b[38;5;241m.\u001b[39marray([[\u001b[38;5;241m1.0\u001b[39m, \u001b[38;5;241m0.0\u001b[39m, \u001b[38;5;28mself\u001b[39m\u001b[38;5;241m.\u001b[39mdt, \u001b[38;5;241m0.0\u001b[39m],\n\u001b[1;32m     25\u001b[0m               [\u001b[38;5;241m0.0\u001b[39m, \u001b[38;5;241m1.0\u001b[39m, \u001b[38;5;241m0.0\u001b[39m, \u001b[38;5;28mself\u001b[39m\u001b[38;5;241m.\u001b[39mdt],\n\u001b[1;32m     26\u001b[0m               [\u001b[38;5;241m0.0\u001b[39m, \u001b[38;5;241m0.0\u001b[39m, \u001b[38;5;241m1.0\u001b[39m, \u001b[38;5;241m0.0\u001b[39m],\n\u001b[1;32m     27\u001b[0m               [\u001b[38;5;241m0.0\u001b[39m, \u001b[38;5;241m0.0\u001b[39m, \u001b[38;5;241m0.0\u001b[39m, \u001b[38;5;241m1.0\u001b[39m]])\n",
            "File \u001b[0;32mmtrand.pyx:1507\u001b[0m, in \u001b[0;36mnumpy.random.mtrand.RandomState.normal\u001b[0;34m()\u001b[0m\n",
            "File \u001b[0;32m_common.pyx:562\u001b[0m, in \u001b[0;36mnumpy.random._common.cont\u001b[0;34m()\u001b[0m\n",
            "File \u001b[0;32m_common.pyx:472\u001b[0m, in \u001b[0;36mnumpy.random._common.cont_broadcast_2\u001b[0;34m()\u001b[0m\n",
            "File \u001b[0;32m__init__.pxd:739\u001b[0m, in \u001b[0;36mnumpy.PyArray_MultiIterNew2\u001b[0;34m()\u001b[0m\n",
            "\u001b[0;31mValueError\u001b[0m: shape mismatch: objects cannot be broadcast to a single shape"
          ]
        }
      ],
      "source": [
        "# Run Double Integrator Dynamics Rollouts\n",
        "\n",
        "# Constants\n",
        "num_rollouts = 10\n",
        "num_steps = 100\n",
        "\n",
        "# Define the dynamics class\n",
        "di_dynamics = DoubleIntegratorDynamics()\n",
        "\n",
        "# Define the control inputs\n",
        "control_traj = np.zeros((di_dynamics.m,num_steps))\n",
        "control_traj[0,:] = np.sin(np.linspace(0.0, 2*np.pi, num_steps))\n",
        "control_traj[1,:] = np.cos(np.linspace(0.0, 2*np.pi, num_steps))\n",
        "\n",
        "# Define the initial state\n",
        "state_init = np.array([0.0, 0.0, 0.0, 0.0])\n",
        "\n",
        "# Rollouts dynamics\n",
        "state_traj_rollouts = di_dynamics.rollout(state_init, control_traj, num_rollouts)"
      ]
    },
    {
      "cell_type": "code",
      "execution_count": null,
      "metadata": {
        "colab": {
          "base_uri": "https://localhost:8080/",
          "height": 939
        },
        "id": "Psh_-VCKJQmq",
        "outputId": "d97d22c0-7b3b-443d-af75-e7187d7d8be0"
      },
      "outputs": [],
      "source": [
        "# Plot control inputs\n",
        "fig_ctrl, axs_ctrl = plt.subplots(nrows=di_dynamics.m)\n",
        "ylabels_ctrl = [\"xdd\", \"ydd\"]\n",
        "ylims_ctrl = np.array([[-1.1, 1.1],[-1.1, 1.1]])\n",
        "for j in range(di_dynamics.m):\n",
        "  axs_ctrl[j].plot(np.linspace(0,num_steps,num_steps), control_traj[j, :])\n",
        "  axs_ctrl[j].set_ylabel(ylabels_ctrl[j])\n",
        "  axs_ctrl[j].set_ylim(ylims_ctrl[j,:])\n",
        "fig_ctrl.suptitle(\"Control\")\n",
        "\n",
        "# Plots state trajectory rollouts\n",
        "fig_state, axs_state = plt.subplots(nrows=di_dynamics.n)\n",
        "ylabels_state = [\"x\", \"y\", \"xd\", \"yd\"]\n",
        "ylims_state = np.array([[-0.5, 0.5], [-0.5, 0.5], [-0.1, 0.5], [-0.3, 0.3]])\n",
        "for i in range(num_rollouts):\n",
        "  for j in range(di_dynamics.n):\n",
        "    axs_state[j].plot(np.linspace(0,num_steps+1,num_steps+1), state_traj_rollouts[di_dynamics.n*i + j, :], c='c')\n",
        "    axs_state[j].set_ylabel(ylabels_state[j])\n",
        "    axs_state[j].set_ylim(ylims_state[j,:])\n",
        "fig_state.suptitle(\"State\")\n",
        "plt.show()"
      ]
    }
  ],
  "metadata": {
    "colab": {
      "provenance": [],
      "toc_visible": true
    },
    "kernelspec": {
      "display_name": "Python 3",
      "name": "python3"
    },
    "language_info": {
      "codemirror_mode": {
        "name": "ipython",
        "version": 3
      },
      "file_extension": ".py",
      "mimetype": "text/x-python",
      "name": "python",
      "nbconvert_exporter": "python",
      "pygments_lexer": "ipython3",
      "version": "3.10.12"
    }
  },
  "nbformat": 4,
  "nbformat_minor": 0
}
